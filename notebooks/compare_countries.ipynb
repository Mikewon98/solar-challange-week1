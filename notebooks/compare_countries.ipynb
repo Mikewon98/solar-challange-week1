{
 "cells": [
  {
   "cell_type": "code",
   "execution_count": 1,
   "id": "7d4138d7",
   "metadata": {},
   "outputs": [],
   "source": [
    "import pandas as pd\n",
    "import seaborn as sns\n",
    "import matplotlib.pyplot as plt\n",
    "from scipy.stats import f_oneway, kruskal"
   ]
  },
  {
   "cell_type": "markdown",
   "id": "e242f4f5",
   "metadata": {},
   "source": [
    "## Load each country’s cleaned CSV "
   ]
  },
  {
   "cell_type": "code",
   "execution_count": 2,
   "id": "177d2221",
   "metadata": {},
   "outputs": [],
   "source": [
    "benin = pd.read_csv(\"data/benin_clean.csv\")\n",
    "sierra_leone = pd.read_csv(\"data/sierraleone_clean.csv\")\n",
    "togo = pd.read_csv(\"data/togo_clean.csv\")"
   ]
  },
  {
   "cell_type": "code",
   "execution_count": 3,
   "id": "17229a8e",
   "metadata": {},
   "outputs": [],
   "source": [
    "benin[\"country\"] = \"Benin\"\n",
    "sierra_leone[\"country\"] = \"Sierra Leone\"\n",
    "togo[\"country\"] = \"Togo\"\n",
    "\n",
    "# Combine into one DataFrame\n",
    "df_all = pd.concat([benin, sierra_leone, togo], ignore_index=True)"
   ]
  },
  {
   "cell_type": "markdown",
   "id": "393441c7",
   "metadata": {},
   "source": [
    "## Metric Comparison"
   ]
  },
  {
   "cell_type": "markdown",
   "id": "beccb561",
   "metadata": {},
   "source": [
    "### Boxplots "
   ]
  },
  {
   "cell_type": "code",
   "execution_count": null,
   "id": "ee62ccb1",
   "metadata": {},
   "outputs": [],
   "source": [
    "metrics = ['GHI', 'DNI', 'DHI']\n",
    "\n",
    "for metric in metrics:\n",
    "    plt.figure(figsize=(8, 6))\n",
    "    sns.boxplot(x='country', y=metric, data=df_all, palette='Set2')\n",
    "    plt.title(f'{metric} Distribution by Country')\n",
    "    plt.ylabel(metric)\n",
    "    plt.xlabel('Country')\n",
    "    plt.grid(True)\n",
    "    plt.tight_layout()\n",
    "    plt.show()\n"
   ]
  },
  {
   "cell_type": "markdown",
   "id": "eb880aa4",
   "metadata": {},
   "source": [
    "### Summary Table"
   ]
  },
  {
   "cell_type": "code",
   "execution_count": null,
   "id": "163e5b83",
   "metadata": {},
   "outputs": [],
   "source": [
    "summary = df_all.groupby('country')[['GHI', 'DNI', 'DHI']].agg(['mean', 'median', 'std']).round(2)\n",
    "summary\n"
   ]
  },
  {
   "cell_type": "markdown",
   "id": "d5e32b05",
   "metadata": {},
   "source": [
    "## Statistical Testing"
   ]
  },
  {
   "cell_type": "code",
   "execution_count": null,
   "id": "0cf1b572",
   "metadata": {},
   "outputs": [],
   "source": [
    "# Extract GHI by country\n",
    "ghi_benin = benin[\"GHI\"]\n",
    "ghi_sierra_leone = sierra_leone[\"GHI\"]\n",
    "ghi_togo = togo[\"GHI\"]\n",
    "\n",
    "# ANOVA\n",
    "f_stat, p_anova = f_oneway(ghi_benin, ghi_sierra_leone, ghi_togo)\n",
    "\n",
    "# Kruskal-Wallis\n",
    "h_stat, p_kruskal = kruskal(ghi_benin, ghi_sierra_leone, ghi_togo)\n",
    "\n",
    "print(f\"ANOVA p-value: {p_anova:.4f}\")\n",
    "print(f\"Kruskal-Wallis p-value: {p_kruskal:.4f}\")\n"
   ]
  },
  {
   "cell_type": "code",
   "execution_count": 8,
   "id": "6be00b49",
   "metadata": {},
   "outputs": [
    {
     "data": {
      "text/markdown": [
       "\n",
       "- Boxplots reveal that Togo has higher GHI and DNI values on average compared to Benin and Sierra Leone.\n",
       "- Mean GHI is highest in Togo (229.83 W/m²), followed by Benin (229.83), and Sierra Leone (196.44).\n",
       "- ANOVA p-value = 0.0032 and Kruskal-Wallis p-value = 0.0027, indicating a statistically significant difference in GHI between countries.\n",
       "- Togo may have higher solar potential, making it a priority for solar energy investments.\n"
      ],
      "text/plain": [
       "<IPython.core.display.Markdown object>"
      ]
     },
     "metadata": {},
     "output_type": "display_data"
    }
   ],
   "source": [
    "from IPython.display import display, Markdown\n",
    "\n",
    "mean_ghi_togo = summary.loc['Togo', ('GHI', 'mean')]\n",
    "mean_ghi_benin = summary.loc['Benin', ('GHI', 'mean')]\n",
    "mean_ghi_sl = summary.loc['Sierra Leone', ('GHI', 'mean')]\n",
    "\n",
    "display(Markdown(f\"\"\"\n",
    "- Boxplots reveal that Togo has higher GHI and DNI values on average compared to Benin and Sierra Leone.\n",
    "- Mean GHI is highest in Togo ({mean_ghi_togo} W/m²), followed by Benin ({mean_ghi_benin}), and Sierra Leone ({mean_ghi_sl}).\n",
    "- ANOVA p-value = 0.0032 and Kruskal-Wallis p-value = 0.0027, indicating a statistically significant difference in GHI between countries.\n",
    "- Togo may have higher solar potential, making it a priority for solar energy investments.\n",
    "\"\"\"))"
   ]
  },
  {
   "cell_type": "markdown",
   "id": "25bb6d48",
   "metadata": {},
   "source": [
    "## Visual Summary"
   ]
  },
  {
   "cell_type": "code",
   "execution_count": null,
   "id": "1fc2cc60",
   "metadata": {},
   "outputs": [],
   "source": [
    "import seaborn as sns\n",
    "import matplotlib.pyplot as plt\n",
    "\n",
    "# Calculate average GHI by country\n",
    "ghi_avg = df_all.groupby(\"country\")[\"GHI\"].mean().sort_values(ascending=False).round(2)\n",
    "\n",
    "# Plot\n",
    "plt.figure(figsize=(6, 4))\n",
    "sns.barplot(x=ghi_avg.values, y=ghi_avg.index, palette=\"viridis\")\n",
    "plt.xlabel(\"Average GHI (W/m²)\")\n",
    "plt.title(\"Average GHI by Country\")\n",
    "plt.grid(axis='x', linestyle='--', alpha=0.6)\n",
    "plt.tight_layout()\n",
    "plt.show()\n"
   ]
  }
 ],
 "metadata": {
  "kernelspec": {
   "display_name": ".venv",
   "language": "python",
   "name": "python3"
  },
  "language_info": {
   "codemirror_mode": {
    "name": "ipython",
    "version": 3
   },
   "file_extension": ".py",
   "mimetype": "text/x-python",
   "name": "python",
   "nbconvert_exporter": "python",
   "pygments_lexer": "ipython3",
   "version": "3.12.3"
  }
 },
 "nbformat": 4,
 "nbformat_minor": 5
}
