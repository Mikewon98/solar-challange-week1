{
 "cells": [
  {
   "cell_type": "code",
   "execution_count": 1,
   "id": "a73c3d0e",
   "metadata": {},
   "outputs": [],
   "source": [
    "import pandas as pd\n",
    "import matplotlib.pyplot as plt\n",
    "import seaborn as sns\n",
    "import numpy as np\n",
    "from scipy.stats import zscore\n",
    "from scipy import stats\n",
    "import os"
   ]
  },
  {
   "cell_type": "code",
   "execution_count": 2,
   "id": "d5c06746",
   "metadata": {},
   "outputs": [],
   "source": [
    "# loading sierraleone-bumbuna dataset\n",
    "df = pd.read_csv(\"../data/sierraleone-bumbuna.csv\")"
   ]
  },
  {
   "cell_type": "code",
   "execution_count": null,
   "id": "6195ad18",
   "metadata": {},
   "outputs": [],
   "source": [
    "df.head(10)"
   ]
  },
  {
   "cell_type": "markdown",
   "id": "5af7dea2",
   "metadata": {},
   "source": [
    "## Summary Statistics & Missing Values"
   ]
  },
  {
   "cell_type": "code",
   "execution_count": null,
   "id": "970557ca",
   "metadata": {
    "vscode": {
     "languageId": "c"
    }
   },
   "outputs": [],
   "source": [
    "# Display basic info\n",
    "print(\"Dataset Info:\")\n",
    "print(df.info())\n",
    "print(\"\\nSummary Statistics:\")\n",
    "print(df.describe())\n",
    "print(\"\\nPercentage of Missing Values:\")\n",
    "print((df.isna().sum() / len(df) * 100).round(2))\n",
    "print(\"\\nMissing Values:\")\n",
    "print(df.isna().sum())\n"
   ]
  },
  {
   "cell_type": "code",
   "execution_count": null,
   "id": "9d5135a0",
   "metadata": {},
   "outputs": [],
   "source": [
    "\n",
    "missing_counts = df.isnull().sum()\n",
    "print(\"Missing values:\\n\", missing_counts)\n",
    "\n",
    "columns_to_check = ['GHI', 'DNI', 'DHI', 'ModA', 'ModB', 'WS', 'WSgust']\n",
    "z_scores = df[columns_to_check].apply(zscore)\n",
    "\n",
    "outliers = (np.abs(z_scores) > 3)\n",
    "print(\"Outliers detected per column:\\n\", outliers.sum())\n",
    "\n",
    "df_cleaned = df.copy()\n",
    "df_cleaned[columns_to_check] = df_cleaned[columns_to_check].mask(outliers)\n",
    "\n",
    "df_cleaned[columns_to_check] = df_cleaned[columns_to_check].fillna(df_cleaned[columns_to_check].median())\n",
    "\n",
    "key_columns = ['GHI', 'DNI', 'DHI', 'ModA', 'ModB', 'WS', 'WSgust']\n",
    "df_cleaned = df_cleaned.dropna(subset=key_columns)\n",
    "\n",
    "output_path = 'data/sierraleone_clean.csv'\n",
    "os.makedirs('data', exist_ok=True)\n",
    "df_cleaned.to_csv(output_path, index=False)\n",
    "\n",
    "print(f\"Cleaned data exported to: {output_path}\")\n"
   ]
  }
 ],
 "metadata": {
  "kernelspec": {
   "display_name": ".venv",
   "language": "python",
   "name": "python3"
  },
  "language_info": {
   "codemirror_mode": {
    "name": "ipython",
    "version": 3
   },
   "file_extension": ".py",
   "mimetype": "text/x-python",
   "name": "python",
   "nbconvert_exporter": "python",
   "pygments_lexer": "ipython3",
   "version": "3.12.3"
  }
 },
 "nbformat": 4,
 "nbformat_minor": 5
}
