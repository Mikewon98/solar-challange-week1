{
 "cells": [
  {
   "cell_type": "code",
   "execution_count": 1,
   "id": "36708936",
   "metadata": {},
   "outputs": [],
   "source": [
    "import pandas as pd\n",
    "import matplotlib.pyplot as plt\n",
    "import seaborn as sns\n",
    "import numpy as np\n",
    "from scipy.stats import zscore\n",
    "from scipy import stats\n",
    "import os"
   ]
  },
  {
   "cell_type": "code",
   "execution_count": 2,
   "id": "c475df49",
   "metadata": {},
   "outputs": [],
   "source": [
    "# loading benin-malanville dataset\n",
    "df = pd.read_csv(\"../data/benin-malanville.csv\")"
   ]
  },
  {
   "cell_type": "code",
   "execution_count": null,
   "id": "61a891b1",
   "metadata": {},
   "outputs": [],
   "source": [
    "df.head(10)"
   ]
  },
  {
   "cell_type": "markdown",
   "id": "033cb825",
   "metadata": {},
   "source": [
    "## Summary Statistics & Missing Values"
   ]
  },
  {
   "cell_type": "code",
   "execution_count": null,
   "id": "8da2259f",
   "metadata": {
    "vscode": {
     "languageId": "c"
    }
   },
   "outputs": [],
   "source": [
    "# Display basic info\n",
    "print(\"Dataset Info:\")\n",
    "print(df.info())\n",
    "print(\"\\nSummary Statistics:\")\n",
    "print(df.describe())\n",
    "print(\"\\nPercentage of Missing Values:\")\n",
    "print((df.isna().sum() / len(df) * 100).round(2))\n",
    "print(\"\\nMissing Values:\")\n",
    "print(df.isna().sum())\n"
   ]
  },
  {
   "cell_type": "code",
   "execution_count": null,
   "id": "a218fc5a",
   "metadata": {},
   "outputs": [],
   "source": [
    "\n",
    "missing_counts = df.isnull().sum()\n",
    "print(\"Missing values:\\n\", missing_counts)\n",
    "\n",
    "columns_to_check = ['GHI', 'DNI', 'DHI', 'ModA', 'ModB', 'WS', 'WSgust']\n",
    "z_scores = df[columns_to_check].apply(zscore)\n",
    "\n",
    "outliers = (np.abs(z_scores) > 3)\n",
    "print(\"Outliers detected per column:\\n\", outliers.sum())\n",
    "\n",
    "df_cleaned = df.copy()\n",
    "df_cleaned[columns_to_check] = df_cleaned[columns_to_check].mask(outliers)\n",
    "\n",
    "df_cleaned[columns_to_check] = df_cleaned[columns_to_check].fillna(df_cleaned[columns_to_check].median())\n",
    "\n",
    "key_columns = ['GHI', 'DNI', 'DHI', 'ModA', 'ModB', 'WS', 'WSgust']\n",
    "df_cleaned = df_cleaned.dropna(subset=key_columns)\n",
    "\n",
    "output_path = 'data/benin_clean.csv'\n",
    "os.makedirs('data', exist_ok=True)\n",
    "df_cleaned.to_csv(output_path, index=False)\n",
    "\n",
    "print(f\"Cleaned data exported to: {output_path}\")\n"
   ]
  },
  {
   "cell_type": "markdown",
   "id": "216b0193",
   "metadata": {},
   "source": [
    "## Time Series Analysis"
   ]
  },
  {
   "cell_type": "code",
   "execution_count": null,
   "id": "d975fb51",
   "metadata": {},
   "outputs": [],
   "source": [
    "df[\"Timestamp\"] = pd.to_datetime(df[\"Timestamp\"])\n",
    "\n",
    "# setting the index to Timestamp\n",
    "df.set_index(\"Timestamp\", inplace=True)\n",
    "\n",
    "plot_cols = ['GHI', 'DNI', 'DHI', 'Tamb']\n",
    "# Plotting\n",
    "df[plot_cols].plot(figsize=(15, 6))\n",
    "plt.title(\"Solar Irradiance and Ambient Temperature Over Time\")\n",
    "plt.ylabel(\"Values\")"
   ]
  },
  {
   "cell_type": "markdown",
   "id": "9743eb6b",
   "metadata": {},
   "source": [
    "## Cleaning Impact"
   ]
  },
  {
   "cell_type": "code",
   "execution_count": null,
   "id": "f593ccd3",
   "metadata": {},
   "outputs": [],
   "source": [
    "# Group by cleaning status (0 or 1)\n",
    "cleaning_impact = df.groupby('Cleaning')[['ModA', 'ModB']].mean()\n",
    "\n",
    "# Bar plot\n",
    "cleaning_impact.plot(kind='bar', figsize=(8, 5))\n",
    "plt.title('Average ModA and ModB Before vs After Cleaning')\n",
    "plt.ylabel('W/m²')"
   ]
  },
  {
   "cell_type": "markdown",
   "id": "e811ed50",
   "metadata": {},
   "source": [
    "## Correlation & Relationship Analysis"
   ]
  },
  {
   "cell_type": "code",
   "execution_count": null,
   "id": "c1385caf",
   "metadata": {},
   "outputs": [],
   "source": [
    "# Correlation heatmap\n",
    "plt.figure(figsize=(10, 8))\n",
    "sns.heatmap(df[['GHI', 'DNI', 'DHI', 'TModA', 'TModB']].corr(), annot=True, cmap='coolwarm')\n",
    "plt.title('Correlation Heatmap')"
   ]
  },
  {
   "cell_type": "markdown",
   "id": "7f3db707",
   "metadata": {},
   "source": [
    "## Wind & Distribution Analysis"
   ]
  },
  {
   "cell_type": "code",
   "execution_count": null,
   "id": "33f6fe89",
   "metadata": {},
   "outputs": [],
   "source": [
    "sns.scatterplot(data=df, x='WS', y='GHI')\n",
    "plt.title('Wind Speed vs GHI')\n",
    "\n",
    "sns.scatterplot(data=df, x='RH', y='Tamb')\n",
    "plt.title('Humidity vs Ambient Temp')"
   ]
  },
  {
   "cell_type": "code",
   "execution_count": null,
   "id": "64b87720",
   "metadata": {},
   "outputs": [],
   "source": [
    "df['GHI'].plot.hist(bins=50, alpha=0.7, title='GHI Histogram')\n",
    "plt.xlabel('W/m²')"
   ]
  },
  {
   "cell_type": "markdown",
   "id": "76fb3f47",
   "metadata": {},
   "source": [
    "## Temperature Analysis"
   ]
  },
  {
   "cell_type": "code",
   "execution_count": null,
   "id": "3c6b73d4",
   "metadata": {},
   "outputs": [],
   "source": [
    "plt.figure(figsize=(12, 6))\n",
    "\n",
    "# Humidity vs GHI\n",
    "sns.scatterplot(data=df, x='RH', y='GHI', color='blue', alpha=0.6, label='Humidity vs GHI')\n",
    "plt.title('Humidity vs GHI')\n",
    "plt.xlabel('Relative Humidity (%)')\n",
    "plt.ylabel('Global Horizontal Irradiance (W/m²)')\n",
    "plt.legend()\n",
    "\n",
    "# Humidity vs Ambient Temp\n",
    "sns.scatterplot(data=df, x='RH', y='Tamb', color='orange', alpha=0.6, label='Humidity vs Ambient Temp')\n",
    "plt.title('Humidity vs GHI and Ambient Temp')\n",
    "plt.xlabel('Relative Humidity (%)')\n",
    "plt.ylabel('Values')\n",
    "plt.legend()"
   ]
  },
  {
   "cell_type": "markdown",
   "id": "9f4fb6a2",
   "metadata": {},
   "source": [
    "## Bubble Chart"
   ]
  },
  {
   "cell_type": "code",
   "execution_count": null,
   "id": "96630796",
   "metadata": {},
   "outputs": [],
   "source": [
    "# Bubble chart: GHI vs Tamb, bubble = RH\n",
    "plt.figure(figsize=(10, 6))\n",
    "sns.scatterplot(data=df, x='Tamb', y='GHI', size='RH', hue='RH', alpha=0.6, sizes=(20, 200))\n",
    "plt.title('GHI vs Temperature (bubble size = RH)')"
   ]
  }
 ],
 "metadata": {
  "kernelspec": {
   "display_name": ".venv",
   "language": "python",
   "name": "python3"
  },
  "language_info": {
   "codemirror_mode": {
    "name": "ipython",
    "version": 3
   },
   "file_extension": ".py",
   "mimetype": "text/x-python",
   "name": "python",
   "nbconvert_exporter": "python",
   "pygments_lexer": "ipython3",
   "version": "3.12.3"
  }
 },
 "nbformat": 4,
 "nbformat_minor": 5
}
